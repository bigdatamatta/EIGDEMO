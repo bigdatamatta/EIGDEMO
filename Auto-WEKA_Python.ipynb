{
 "cells": [
  {
   "cell_type": "code",
   "execution_count": 1,
   "metadata": {},
   "outputs": [
    {
     "name": "stdout",
     "output_type": "stream",
     "text": [
      "Collecting pyautoweka==1.1\n"
     ]
    },
    {
     "name": "stderr",
     "output_type": "stream",
     "text": [
      "  Retrying (Retry(total=4, connect=None, read=None, redirect=None, status=None)) after connection broken by 'ProtocolError('Connection aborted.', ConnectionAbortedError(10053, 'An established connection was aborted by the software in your host machine', None, 10053, None))': /simple/pyautoweka/\n",
      "  Retrying (Retry(total=3, connect=None, read=None, redirect=None, status=None)) after connection broken by 'ProtocolError('Connection aborted.', ConnectionAbortedError(10053, 'An established connection was aborted by the software in your host machine', None, 10053, None))': /simple/pyautoweka/\n",
      "  Retrying (Retry(total=2, connect=None, read=None, redirect=None, status=None)) after connection broken by 'ProtocolError('Connection aborted.', ConnectionAbortedError(10053, 'An established connection was aborted by the software in your host machine', None, 10053, None))': /simple/pyautoweka/\n",
      "  Retrying (Retry(total=1, connect=None, read=None, redirect=None, status=None)) after connection broken by 'ProtocolError('Connection aborted.', ConnectionAbortedError(10053, 'An established connection was aborted by the software in your host machine', None, 10053, None))': /simple/pyautoweka/\n",
      "  Retrying (Retry(total=0, connect=None, read=None, redirect=None, status=None)) after connection broken by 'ProtocolError('Connection aborted.', ConnectionAbortedError(10053, 'An established connection was aborted by the software in your host machine', None, 10053, None))': /simple/pyautoweka/\n",
      "  Could not find a version that satisfies the requirement pyautoweka==1.1 (from versions: )\n",
      "No matching distribution found for pyautoweka==1.1\n"
     ]
    }
   ],
   "source": [
    "!pip install pyautoweka==1.1"
   ]
  },
  {
   "cell_type": "code",
   "execution_count": 2,
   "metadata": {},
   "outputs": [
    {
     "name": "stdout",
     "output_type": "stream",
     "text": [
      "Collecting pip\n",
      "  Downloading https://files.pythonhosted.org/packages/5f/25/e52d3f31441505a5f3af41213346e5b6c221c9e086a166f3703d2ddaf940/pip-18.0-py2.py3-none-any.whl (1.3MB)\n",
      "Installing collected packages: pip\n",
      "  Found existing installation: pip 9.0.1\n",
      "    Uninstalling pip-9.0.1:\n",
      "      Successfully uninstalled pip-9.0.1\n"
     ]
    },
    {
     "name": "stderr",
     "output_type": "stream",
     "text": [
      "Exception:\n",
      "Traceback (most recent call last):\n",
      "  File \"C:\\Users\\engin\\Desktop\\AnacondaLatest\\lib\\shutil.py\", line 387, in _rmtree_unsafe\n",
      "    os.unlink(fullname)\n",
      "PermissionError: [WinError 5] Access is denied: 'C:\\\\Users\\\\engin\\\\AppData\\\\Local\\\\Temp\\\\pip-mv4jdisc-uninstall\\\\users\\\\engin\\\\desktop\\\\anacondalatest\\\\scripts\\\\pip.exe'\n",
      "\n",
      "During handling of the above exception, another exception occurred:\n",
      "\n",
      "Traceback (most recent call last):\n",
      "  File \"C:\\Users\\engin\\Desktop\\AnacondaLatest\\lib\\site-packages\\pip\\basecommand.py\", line 215, in main\n",
      "  File \"C:\\Users\\engin\\Desktop\\AnacondaLatest\\lib\\site-packages\\pip\\commands\\install.py\", line 342, in run\n",
      "  File \"C:\\Users\\engin\\Desktop\\AnacondaLatest\\lib\\site-packages\\pip\\req\\req_set.py\", line 795, in install\n",
      "  File \"C:\\Users\\engin\\Desktop\\AnacondaLatest\\lib\\site-packages\\pip\\req\\req_install.py\", line 767, in commit_uninstall\n",
      "  File \"C:\\Users\\engin\\Desktop\\AnacondaLatest\\lib\\site-packages\\pip\\req\\req_uninstall.py\", line 142, in commit\n",
      "  File \"C:\\Users\\engin\\Desktop\\AnacondaLatest\\lib\\site-packages\\pip\\_vendor\\retrying.py\", line 49, in wrapped_f\n",
      "    return Retrying(*dargs, **dkw).call(f, *args, **kw)\n",
      "  File \"C:\\Users\\engin\\Desktop\\AnacondaLatest\\lib\\site-packages\\pip\\_vendor\\retrying.py\", line 212, in call\n",
      "    raise attempt.get()\n",
      "  File \"C:\\Users\\engin\\Desktop\\AnacondaLatest\\lib\\site-packages\\pip\\_vendor\\retrying.py\", line 247, in get\n",
      "    six.reraise(self.value[0], self.value[1], self.value[2])\n",
      "  File \"C:\\Users\\engin\\Desktop\\AnacondaLatest\\lib\\site-packages\\pip\\_vendor\\six.py\", line 686, in reraise\n",
      "  File \"C:\\Users\\engin\\Desktop\\AnacondaLatest\\lib\\site-packages\\pip\\_vendor\\retrying.py\", line 200, in call\n",
      "    attempt = Attempt(fn(*args, **kwargs), attempt_number, False)\n",
      "  File \"C:\\Users\\engin\\Desktop\\AnacondaLatest\\lib\\site-packages\\pip\\utils\\__init__.py\", line 102, in rmtree\n",
      "  File \"C:\\Users\\engin\\Desktop\\AnacondaLatest\\lib\\shutil.py\", line 494, in rmtree\n",
      "    return _rmtree_unsafe(path, onerror)\n",
      "  File \"C:\\Users\\engin\\Desktop\\AnacondaLatest\\lib\\shutil.py\", line 384, in _rmtree_unsafe\n",
      "    _rmtree_unsafe(fullname, onerror)\n",
      "  File \"C:\\Users\\engin\\Desktop\\AnacondaLatest\\lib\\shutil.py\", line 384, in _rmtree_unsafe\n",
      "    _rmtree_unsafe(fullname, onerror)\n",
      "  File \"C:\\Users\\engin\\Desktop\\AnacondaLatest\\lib\\shutil.py\", line 384, in _rmtree_unsafe\n",
      "    _rmtree_unsafe(fullname, onerror)\n",
      "  [Previous line repeated 1 more times]\n",
      "  File \"C:\\Users\\engin\\Desktop\\AnacondaLatest\\lib\\shutil.py\", line 389, in _rmtree_unsafe\n",
      "    onerror(os.unlink, fullname, sys.exc_info())\n",
      "  File \"C:\\Users\\engin\\Desktop\\AnacondaLatest\\lib\\site-packages\\pip\\utils\\__init__.py\", line 114, in rmtree_errorhandler\n",
      "PermissionError: [WinError 5] Access is denied: 'C:\\\\Users\\\\engin\\\\AppData\\\\Local\\\\Temp\\\\pip-mv4jdisc-uninstall\\\\users\\\\engin\\\\desktop\\\\anacondalatest\\\\scripts\\\\pip.exe'\n"
     ]
    }
   ],
   "source": [
    "!pip install --upgrade pip"
   ]
  },
  {
   "cell_type": "code",
   "execution_count": 6,
   "metadata": {},
   "outputs": [
    {
     "name": "stdout",
     "output_type": "stream",
     "text": [
      "Collecting DataSet\n",
      "  Downloading https://files.pythonhosted.org/packages/ba/76/5b8fe80f487bfa90b8d0094c3a27150fe797b1fbe02dec31b048fd52448d/dataset-1.1.0-py2.py3-none-any.whl\n",
      "Collecting alembic>=0.6.2 (from DataSet)\n",
      "  Downloading https://files.pythonhosted.org/packages/96/c7/a4129db460c3e0ea8fea0c9eb5de6680d38ea6b6dcffcb88898ae42e170a/alembic-1.0.0-py2.py3-none-any.whl (158kB)\n",
      "Collecting normality>=0.5.1 (from DataSet)\n",
      "  Downloading https://files.pythonhosted.org/packages/9e/b9/75da5b8c929a52f6d1b5f9104a2d126ed3d6352ba101682468c249a389e3/normality-0.6.1-py2.py3-none-any.whl\n",
      "Requirement already satisfied: six>=1.11.0 in c:\\users\\engin\\desktop\\anacondalatest\\lib\\site-packages (from DataSet) (1.11.0)\n",
      "Requirement already satisfied: sqlalchemy>=1.1.0 in c:\\users\\engin\\desktop\\anacondalatest\\lib\\site-packages (from DataSet) (1.2.1)\n",
      "Collecting python-editor>=0.3 (from alembic>=0.6.2->DataSet)\n",
      "  Downloading https://files.pythonhosted.org/packages/65/1e/adf6e000ea5dc909aa420352d6ba37f16434c8a3c2fa030445411a1ed545/python-editor-1.0.3.tar.gz\n",
      "Requirement already satisfied: python-dateutil in c:\\users\\engin\\desktop\\anacondalatest\\lib\\site-packages (from alembic>=0.6.2->DataSet) (2.6.1)\n",
      "Collecting Mako (from alembic>=0.6.2->DataSet)\n",
      "  Downloading https://files.pythonhosted.org/packages/eb/f3/67579bb486517c0d49547f9697e36582cd19dafb5df9e687ed8e22de57fa/Mako-1.0.7.tar.gz (564kB)\n",
      "Collecting banal (from normality>=0.5.1->DataSet)\n",
      "  Downloading https://files.pythonhosted.org/packages/20/05/d3df93ba3fcfcd8716e1e3e3947b191be9adae0b3f9c01d802d32d636930/banal-0.3.7-py2.py3-none-any.whl\n",
      "Requirement already satisfied: chardet in c:\\users\\engin\\desktop\\anacondalatest\\lib\\site-packages (from normality>=0.5.1->DataSet) (3.0.4)\n",
      "Requirement already satisfied: MarkupSafe>=0.9.2 in c:\\users\\engin\\desktop\\anacondalatest\\lib\\site-packages (from Mako->alembic>=0.6.2->DataSet) (1.0)\n",
      "Building wheels for collected packages: python-editor, Mako\n",
      "  Running setup.py bdist_wheel for python-editor: started\n",
      "  Running setup.py bdist_wheel for python-editor: finished with status 'done'\n",
      "  Stored in directory: C:\\Users\\engin\\AppData\\Local\\pip\\Cache\\wheels\\36\\e0\\98\\ba386b125a00ea9dd52e2c16aa2ec0adbbd639b84bfe2e001d\n",
      "  Running setup.py bdist_wheel for Mako: started\n",
      "  Running setup.py bdist_wheel for Mako: finished with status 'done'\n",
      "  Stored in directory: C:\\Users\\engin\\AppData\\Local\\pip\\Cache\\wheels\\15\\35\\25\\dbcb848832ccb1a4b4ad23f529badfd3bce9bf88017f7ca510\n",
      "Successfully built python-editor Mako\n",
      "Installing collected packages: python-editor, Mako, alembic, banal, normality, DataSet\n",
      "Successfully installed DataSet-1.1.0 Mako-1.0.7 alembic-1.0.0 banal-0.3.7 normality-0.6.1 python-editor-1.0.3\n"
     ]
    }
   ],
   "source": [
    "!pip install DataSet"
   ]
  },
  {
   "cell_type": "code",
   "execution_count": 10,
   "metadata": {},
   "outputs": [],
   "source": [
    "#load the data:\n",
    "from sklearn.datasets import load_iris\n",
    "from sklearn.model_selection import train_test_split"
   ]
  },
  {
   "cell_type": "code",
   "execution_count": 11,
   "metadata": {},
   "outputs": [
    {
     "data": {
      "text/plain": [
       "(array([[5.1, 3.5, 1.4, 0.2],\n",
       "        [4.9, 3. , 1.4, 0.2],\n",
       "        [4.7, 3.2, 1.3, 0.2],\n",
       "        [4.6, 3.1, 1.5, 0.2],\n",
       "        [5. , 3.6, 1.4, 0.2]]),\n",
       " array([0, 0, 0, 0, 0, 0, 0, 0, 0, 0, 0, 0, 0, 0, 0, 0, 0, 0, 0, 0, 0, 0,\n",
       "        0, 0, 0, 0, 0, 0, 0, 0, 0, 0, 0, 0, 0, 0, 0, 0, 0, 0, 0, 0, 0, 0,\n",
       "        0, 0, 0, 0, 0, 0, 1, 1, 1, 1, 1, 1, 1, 1, 1, 1, 1, 1, 1, 1, 1, 1,\n",
       "        1, 1, 1, 1, 1, 1, 1, 1, 1, 1, 1, 1, 1, 1, 1, 1, 1, 1, 1, 1, 1, 1,\n",
       "        1, 1, 1, 1, 1, 1, 1, 1, 1, 1, 1, 1, 2, 2, 2, 2, 2, 2, 2, 2, 2, 2,\n",
       "        2, 2, 2, 2, 2, 2, 2, 2, 2, 2, 2, 2, 2, 2, 2, 2, 2, 2, 2, 2, 2, 2,\n",
       "        2, 2, 2, 2, 2, 2, 2, 2, 2, 2, 2, 2, 2, 2, 2, 2, 2, 2]))"
      ]
     },
     "execution_count": 11,
     "metadata": {},
     "output_type": "execute_result"
    }
   ],
   "source": [
    "iris = load_iris()\n",
    "iris.data[0:5], iris.target"
   ]
  },
  {
   "cell_type": "code",
   "execution_count": 12,
   "metadata": {},
   "outputs": [
    {
     "data": {
      "text/plain": [
       "((112, 4), (38, 4), (112,), (38,))"
      ]
     },
     "execution_count": 12,
     "metadata": {},
     "output_type": "execute_result"
    }
   ],
   "source": [
    "X_train, X_test, y_train, y_test = train_test_split(iris.data, iris.target,train_size=0.75, test_size=0.25)\n",
    "X_train.shape, X_test.shape, y_train.shape, y_test.shape"
   ]
  },
  {
   "cell_type": "code",
   "execution_count": 26,
   "metadata": {},
   "outputs": [
    {
     "ename": "NameError",
     "evalue": "name '__file__' is not defined",
     "output_type": "error",
     "traceback": [
      "\u001b[1;31m---------------------------------------------------------------------------\u001b[0m",
      "\u001b[1;31mNameError\u001b[0m                                 Traceback (most recent call last)",
      "\u001b[1;32m<ipython-input-26-09ee8bbf6380>\u001b[0m in \u001b[0;36m<module>\u001b[1;34m()\u001b[0m\n\u001b[0;32m     13\u001b[0m       \u001b[0minclude_package_data\u001b[0m \u001b[1;33m=\u001b[0m \u001b[1;32mTrue\u001b[0m\u001b[1;33m,\u001b[0m\u001b[1;33m\u001b[0m\u001b[0m\n\u001b[0;32m     14\u001b[0m       \u001b[0meager_resources\u001b[0m\u001b[1;33m=\u001b[0m\u001b[1;33m[\u001b[0m\u001b[1;34m\"pyautoweka/weka.jar\"\u001b[0m\u001b[1;33m]\u001b[0m\u001b[1;33m,\u001b[0m\u001b[1;33m\u001b[0m\u001b[0m\n\u001b[1;32m---> 15\u001b[1;33m       \u001b[0mlong_description\u001b[0m\u001b[1;33m=\u001b[0m\u001b[0mread\u001b[0m\u001b[1;33m(\u001b[0m\u001b[1;34m'README.md'\u001b[0m\u001b[1;33m)\u001b[0m\u001b[1;33m,\u001b[0m\u001b[1;33m\u001b[0m\u001b[0m\n\u001b[0m\u001b[0;32m     16\u001b[0m       requires=[\n\u001b[0;32m     17\u001b[0m           \u001b[1;34m'lxml'\u001b[0m\u001b[1;33m,\u001b[0m\u001b[1;33m\u001b[0m\u001b[0m\n",
      "\u001b[1;32m<ipython-input-24-8f4879322e60>\u001b[0m in \u001b[0;36mread\u001b[1;34m(fname)\u001b[0m\n\u001b[0;32m      4\u001b[0m \u001b[1;33m\u001b[0m\u001b[0m\n\u001b[0;32m      5\u001b[0m \u001b[1;32mdef\u001b[0m \u001b[0mread\u001b[0m\u001b[1;33m(\u001b[0m\u001b[0mfname\u001b[0m\u001b[1;33m)\u001b[0m\u001b[1;33m:\u001b[0m\u001b[1;33m\u001b[0m\u001b[0m\n\u001b[1;32m----> 6\u001b[1;33m     \u001b[1;32mreturn\u001b[0m \u001b[0mopen\u001b[0m\u001b[1;33m(\u001b[0m\u001b[0mos\u001b[0m\u001b[1;33m.\u001b[0m\u001b[0mpath\u001b[0m\u001b[1;33m.\u001b[0m\u001b[0mjoin\u001b[0m\u001b[1;33m(\u001b[0m\u001b[0mos\u001b[0m\u001b[1;33m.\u001b[0m\u001b[0mpath\u001b[0m\u001b[1;33m.\u001b[0m\u001b[0mdirname\u001b[0m\u001b[1;33m(\u001b[0m\u001b[0m__file__\u001b[0m\u001b[1;33m)\u001b[0m\u001b[1;33m,\u001b[0m \u001b[0mfname\u001b[0m\u001b[1;33m)\u001b[0m\u001b[1;33m)\u001b[0m\u001b[1;33m.\u001b[0m\u001b[0mread\u001b[0m\u001b[1;33m(\u001b[0m\u001b[1;33m)\u001b[0m\u001b[1;33m\u001b[0m\u001b[0m\n\u001b[0m\u001b[0;32m      7\u001b[0m \u001b[1;33m\u001b[0m\u001b[0m\n\u001b[0;32m      8\u001b[0m setup(name='pyautoweka',\n",
      "\u001b[1;31mNameError\u001b[0m: name '__file__' is not defined"
     ]
    }
   ],
   "source": [
    "#!/usr/bin/env python\n",
    "from setuptools import setup\n",
    "import os\n",
    "\n",
    "setup(name='pyautoweka',\n",
    "      version='1.1',\n",
    "      description='AutoWeka for python',\n",
    "      author='Tobias Domhan',\n",
    "      author_email='tdomhan@gmail.com',\n",
    "      url='http://www.cs.ubc.ca/labs/beta/Projects/autoweka/',\n",
    "      packages=['pyautoweka'],\n",
    "      #package_data={\"pyautoweka\": [\"./java/weka.jar\"]},\n",
    "      include_package_data = True,\n",
    "      eager_resources=[\"pyautoweka/weka.jar\"],\n",
    "      long_description=read('README.md'),\n",
    "      requires=[\n",
    "          'lxml',\n",
    "          'numpy'\n",
    "      ],\n",
    "     )"
   ]
  },
  {
   "cell_type": "code",
   "execution_count": null,
   "metadata": {},
   "outputs": [],
   "source": []
  }
 ],
 "metadata": {
  "kernelspec": {
   "display_name": "Python 3",
   "language": "python",
   "name": "python3"
  },
  "language_info": {
   "codemirror_mode": {
    "name": "ipython",
    "version": 3
   },
   "file_extension": ".py",
   "mimetype": "text/x-python",
   "name": "python",
   "nbconvert_exporter": "python",
   "pygments_lexer": "ipython3",
   "version": "3.7.0"
  }
 },
 "nbformat": 4,
 "nbformat_minor": 2
}
